{
  "nbformat": 4,
  "nbformat_minor": 0,
  "metadata": {
    "colab": {
      "provenance": [],
      "authorship_tag": "ABX9TyPGVRQ7wMZZE7adU5qZnjTL"
    },
    "kernelspec": {
      "name": "python3",
      "display_name": "Python 3"
    },
    "language_info": {
      "name": "python"
    }
  },
  "cells": [
    {
      "cell_type": "markdown",
      "source": [
        "# 1. Load"
      ],
      "metadata": {
        "id": "dXMhIcl3-YUd"
      }
    },
    {
      "cell_type": "markdown",
      "source": [
        "## 1.1 Import libraries and load data"
      ],
      "metadata": {
        "id": "0C1LKKUT-9OW"
      }
    },
    {
      "cell_type": "code",
      "execution_count": null,
      "metadata": {
        "id": "YS1Jt4dytdpD"
      },
      "outputs": [],
      "source": [
        "# Importing libraries and data loading\n",
        "from urllib.request import urlopen\n",
        "import zipfile\n",
        "import io\n",
        "import pandas as pd\n",
        "import numpy as np\n",
        "import matplotlib.pyplot as plt\n",
        "from datetime import datetime\n",
        "import seaborn as sns\n",
        "from imblearn.under_sampling import RandomUnderSampler\n",
        "from sklearn.model_selection import train_test_split\n",
        "from sklearn.impute import SimpleImputer\n",
        "from sklearn.preprocessing import LabelEncoder, StandardScaler, OneHotEncoder, OrdinalEncoder\n",
        "from sklearn.compose import ColumnTransformer\n",
        "from sklearn.pipeline import Pipeline\n",
        "from sklearn.linear_model import LogisticRegression\n",
        "from sklearn.ensemble import RandomForestClassifier\n",
        "from xgboost import XGBClassifier\n",
        "from sklearn.model_selection import GridSearchCV\n",
        "from sklearn.model_selection import cross_val_score\n",
        "from sklearn.metrics import confusion_matrix, classification_report\n",
        "from sklearn.metrics import roc_curve\n",
        "\n",
        "# Link to the data\n",
        "url = \"https://github.com/CapitalOneRecruiting/DS/raw/master/transactions.zip\"\n",
        "\n",
        "json_file_name = \"transactions.txt\"\n",
        "\n",
        "zip_file = urlopen(url).read()\n",
        "\n",
        "with zipfile.ZipFile(io.BytesIO(zip_file)) as z:\n",
        "    with z.open(json_file_name) as f:\n",
        "        data = pd.read_json(f, lines=True)"
      ]
    },
    {
      "cell_type": "markdown",
      "source": [
        "## 1.2 Basic Data Exploration"
      ],
      "metadata": {
        "id": "CnIMIOFe-y_o"
      }
    },
    {
      "cell_type": "code",
      "source": [
        "# Checking shape of data\n",
        "print(\"Number of records in the data:\", data.shape[0])\n",
        "print(\"Number of fields in each record:\", data.shape[1])"
      ],
      "metadata": {
        "colab": {
          "base_uri": "https://localhost:8080/"
        },
        "id": "D1wrX8H967JM",
        "outputId": "f1e8066b-e3a3-47df-c869-9052fcbb3629"
      },
      "execution_count": null,
      "outputs": [
        {
          "output_type": "stream",
          "name": "stdout",
          "text": [
            "Number of records in the data: 786363\n",
            "Number of fields in each record: 29\n"
          ]
        }
      ]
    },
    {
      "cell_type": "code",
      "source": [
        "# Checking the sample of the data\n",
        "data.head(5)"
      ],
      "metadata": {
        "colab": {
          "base_uri": "https://localhost:8080/",
          "height": 317
        },
        "id": "_BvQampL79YQ",
        "outputId": "7b5ece2e-abf1-4229-aaf0-a632b1c7c13c"
      },
      "execution_count": null,
      "outputs": [
        {
          "output_type": "execute_result",
          "data": {
            "text/plain": [
              "   accountNumber  customerId  creditLimit  availableMoney  \\\n",
              "0      737265056   737265056         5000          5000.0   \n",
              "1      737265056   737265056         5000          5000.0   \n",
              "2      737265056   737265056         5000          5000.0   \n",
              "3      737265056   737265056         5000          5000.0   \n",
              "4      830329091   830329091         5000          5000.0   \n",
              "\n",
              "   transactionDateTime  transactionAmount         merchantName acqCountry  \\\n",
              "0  2016-08-13T14:27:32              98.55                 Uber         US   \n",
              "1  2016-10-11T05:05:54              74.51          AMC #191138         US   \n",
              "2  2016-11-08T09:18:39               7.47           Play Store         US   \n",
              "3  2016-12-10T02:14:50               7.47           Play Store         US   \n",
              "4  2016-03-24T21:04:46              71.18  Tim Hortons #947751         US   \n",
              "\n",
              "  merchantCountryCode posEntryMode  ... echoBuffer currentBalance  \\\n",
              "0                  US           02  ...                       0.0   \n",
              "1                  US           09  ...                       0.0   \n",
              "2                  US           09  ...                       0.0   \n",
              "3                  US           09  ...                       0.0   \n",
              "4                  US           02  ...                       0.0   \n",
              "\n",
              "  merchantCity merchantState merchantZip  cardPresent  posOnPremises  \\\n",
              "0                                               False                  \n",
              "1                                                True                  \n",
              "2                                               False                  \n",
              "3                                               False                  \n",
              "4                                                True                  \n",
              "\n",
              "   recurringAuthInd expirationDateKeyInMatch isFraud  \n",
              "0                                      False   False  \n",
              "1                                      False   False  \n",
              "2                                      False   False  \n",
              "3                                      False   False  \n",
              "4                                      False   False  \n",
              "\n",
              "[5 rows x 29 columns]"
            ],
            "text/html": [
              "\n",
              "  <div id=\"df-c0a00f95-5dd7-46a9-a083-eb672d05bb3c\">\n",
              "    <div class=\"colab-df-container\">\n",
              "      <div>\n",
              "<style scoped>\n",
              "    .dataframe tbody tr th:only-of-type {\n",
              "        vertical-align: middle;\n",
              "    }\n",
              "\n",
              "    .dataframe tbody tr th {\n",
              "        vertical-align: top;\n",
              "    }\n",
              "\n",
              "    .dataframe thead th {\n",
              "        text-align: right;\n",
              "    }\n",
              "</style>\n",
              "<table border=\"1\" class=\"dataframe\">\n",
              "  <thead>\n",
              "    <tr style=\"text-align: right;\">\n",
              "      <th></th>\n",
              "      <th>accountNumber</th>\n",
              "      <th>customerId</th>\n",
              "      <th>creditLimit</th>\n",
              "      <th>availableMoney</th>\n",
              "      <th>transactionDateTime</th>\n",
              "      <th>transactionAmount</th>\n",
              "      <th>merchantName</th>\n",
              "      <th>acqCountry</th>\n",
              "      <th>merchantCountryCode</th>\n",
              "      <th>posEntryMode</th>\n",
              "      <th>...</th>\n",
              "      <th>echoBuffer</th>\n",
              "      <th>currentBalance</th>\n",
              "      <th>merchantCity</th>\n",
              "      <th>merchantState</th>\n",
              "      <th>merchantZip</th>\n",
              "      <th>cardPresent</th>\n",
              "      <th>posOnPremises</th>\n",
              "      <th>recurringAuthInd</th>\n",
              "      <th>expirationDateKeyInMatch</th>\n",
              "      <th>isFraud</th>\n",
              "    </tr>\n",
              "  </thead>\n",
              "  <tbody>\n",
              "    <tr>\n",
              "      <th>0</th>\n",
              "      <td>737265056</td>\n",
              "      <td>737265056</td>\n",
              "      <td>5000</td>\n",
              "      <td>5000.0</td>\n",
              "      <td>2016-08-13T14:27:32</td>\n",
              "      <td>98.55</td>\n",
              "      <td>Uber</td>\n",
              "      <td>US</td>\n",
              "      <td>US</td>\n",
              "      <td>02</td>\n",
              "      <td>...</td>\n",
              "      <td></td>\n",
              "      <td>0.0</td>\n",
              "      <td></td>\n",
              "      <td></td>\n",
              "      <td></td>\n",
              "      <td>False</td>\n",
              "      <td></td>\n",
              "      <td></td>\n",
              "      <td>False</td>\n",
              "      <td>False</td>\n",
              "    </tr>\n",
              "    <tr>\n",
              "      <th>1</th>\n",
              "      <td>737265056</td>\n",
              "      <td>737265056</td>\n",
              "      <td>5000</td>\n",
              "      <td>5000.0</td>\n",
              "      <td>2016-10-11T05:05:54</td>\n",
              "      <td>74.51</td>\n",
              "      <td>AMC #191138</td>\n",
              "      <td>US</td>\n",
              "      <td>US</td>\n",
              "      <td>09</td>\n",
              "      <td>...</td>\n",
              "      <td></td>\n",
              "      <td>0.0</td>\n",
              "      <td></td>\n",
              "      <td></td>\n",
              "      <td></td>\n",
              "      <td>True</td>\n",
              "      <td></td>\n",
              "      <td></td>\n",
              "      <td>False</td>\n",
              "      <td>False</td>\n",
              "    </tr>\n",
              "    <tr>\n",
              "      <th>2</th>\n",
              "      <td>737265056</td>\n",
              "      <td>737265056</td>\n",
              "      <td>5000</td>\n",
              "      <td>5000.0</td>\n",
              "      <td>2016-11-08T09:18:39</td>\n",
              "      <td>7.47</td>\n",
              "      <td>Play Store</td>\n",
              "      <td>US</td>\n",
              "      <td>US</td>\n",
              "      <td>09</td>\n",
              "      <td>...</td>\n",
              "      <td></td>\n",
              "      <td>0.0</td>\n",
              "      <td></td>\n",
              "      <td></td>\n",
              "      <td></td>\n",
              "      <td>False</td>\n",
              "      <td></td>\n",
              "      <td></td>\n",
              "      <td>False</td>\n",
              "      <td>False</td>\n",
              "    </tr>\n",
              "    <tr>\n",
              "      <th>3</th>\n",
              "      <td>737265056</td>\n",
              "      <td>737265056</td>\n",
              "      <td>5000</td>\n",
              "      <td>5000.0</td>\n",
              "      <td>2016-12-10T02:14:50</td>\n",
              "      <td>7.47</td>\n",
              "      <td>Play Store</td>\n",
              "      <td>US</td>\n",
              "      <td>US</td>\n",
              "      <td>09</td>\n",
              "      <td>...</td>\n",
              "      <td></td>\n",
              "      <td>0.0</td>\n",
              "      <td></td>\n",
              "      <td></td>\n",
              "      <td></td>\n",
              "      <td>False</td>\n",
              "      <td></td>\n",
              "      <td></td>\n",
              "      <td>False</td>\n",
              "      <td>False</td>\n",
              "    </tr>\n",
              "    <tr>\n",
              "      <th>4</th>\n",
              "      <td>830329091</td>\n",
              "      <td>830329091</td>\n",
              "      <td>5000</td>\n",
              "      <td>5000.0</td>\n",
              "      <td>2016-03-24T21:04:46</td>\n",
              "      <td>71.18</td>\n",
              "      <td>Tim Hortons #947751</td>\n",
              "      <td>US</td>\n",
              "      <td>US</td>\n",
              "      <td>02</td>\n",
              "      <td>...</td>\n",
              "      <td></td>\n",
              "      <td>0.0</td>\n",
              "      <td></td>\n",
              "      <td></td>\n",
              "      <td></td>\n",
              "      <td>True</td>\n",
              "      <td></td>\n",
              "      <td></td>\n",
              "      <td>False</td>\n",
              "      <td>False</td>\n",
              "    </tr>\n",
              "  </tbody>\n",
              "</table>\n",
              "<p>5 rows × 29 columns</p>\n",
              "</div>\n",
              "      <button class=\"colab-df-convert\" onclick=\"convertToInteractive('df-c0a00f95-5dd7-46a9-a083-eb672d05bb3c')\"\n",
              "              title=\"Convert this dataframe to an interactive table.\"\n",
              "              style=\"display:none;\">\n",
              "        \n",
              "  <svg xmlns=\"http://www.w3.org/2000/svg\" height=\"24px\"viewBox=\"0 0 24 24\"\n",
              "       width=\"24px\">\n",
              "    <path d=\"M0 0h24v24H0V0z\" fill=\"none\"/>\n",
              "    <path d=\"M18.56 5.44l.94 2.06.94-2.06 2.06-.94-2.06-.94-.94-2.06-.94 2.06-2.06.94zm-11 1L8.5 8.5l.94-2.06 2.06-.94-2.06-.94L8.5 2.5l-.94 2.06-2.06.94zm10 10l.94 2.06.94-2.06 2.06-.94-2.06-.94-.94-2.06-.94 2.06-2.06.94z\"/><path d=\"M17.41 7.96l-1.37-1.37c-.4-.4-.92-.59-1.43-.59-.52 0-1.04.2-1.43.59L10.3 9.45l-7.72 7.72c-.78.78-.78 2.05 0 2.83L4 21.41c.39.39.9.59 1.41.59.51 0 1.02-.2 1.41-.59l7.78-7.78 2.81-2.81c.8-.78.8-2.07 0-2.86zM5.41 20L4 18.59l7.72-7.72 1.47 1.35L5.41 20z\"/>\n",
              "  </svg>\n",
              "      </button>\n",
              "      \n",
              "  <style>\n",
              "    .colab-df-container {\n",
              "      display:flex;\n",
              "      flex-wrap:wrap;\n",
              "      gap: 12px;\n",
              "    }\n",
              "\n",
              "    .colab-df-convert {\n",
              "      background-color: #E8F0FE;\n",
              "      border: none;\n",
              "      border-radius: 50%;\n",
              "      cursor: pointer;\n",
              "      display: none;\n",
              "      fill: #1967D2;\n",
              "      height: 32px;\n",
              "      padding: 0 0 0 0;\n",
              "      width: 32px;\n",
              "    }\n",
              "\n",
              "    .colab-df-convert:hover {\n",
              "      background-color: #E2EBFA;\n",
              "      box-shadow: 0px 1px 2px rgba(60, 64, 67, 0.3), 0px 1px 3px 1px rgba(60, 64, 67, 0.15);\n",
              "      fill: #174EA6;\n",
              "    }\n",
              "\n",
              "    [theme=dark] .colab-df-convert {\n",
              "      background-color: #3B4455;\n",
              "      fill: #D2E3FC;\n",
              "    }\n",
              "\n",
              "    [theme=dark] .colab-df-convert:hover {\n",
              "      background-color: #434B5C;\n",
              "      box-shadow: 0px 1px 3px 1px rgba(0, 0, 0, 0.15);\n",
              "      filter: drop-shadow(0px 1px 2px rgba(0, 0, 0, 0.3));\n",
              "      fill: #FFFFFF;\n",
              "    }\n",
              "  </style>\n",
              "\n",
              "      <script>\n",
              "        const buttonEl =\n",
              "          document.querySelector('#df-c0a00f95-5dd7-46a9-a083-eb672d05bb3c button.colab-df-convert');\n",
              "        buttonEl.style.display =\n",
              "          google.colab.kernel.accessAllowed ? 'block' : 'none';\n",
              "\n",
              "        async function convertToInteractive(key) {\n",
              "          const element = document.querySelector('#df-c0a00f95-5dd7-46a9-a083-eb672d05bb3c');\n",
              "          const dataTable =\n",
              "            await google.colab.kernel.invokeFunction('convertToInteractive',\n",
              "                                                     [key], {});\n",
              "          if (!dataTable) return;\n",
              "\n",
              "          const docLinkHtml = 'Like what you see? Visit the ' +\n",
              "            '<a target=\"_blank\" href=https://colab.research.google.com/notebooks/data_table.ipynb>data table notebook</a>'\n",
              "            + ' to learn more about interactive tables.';\n",
              "          element.innerHTML = '';\n",
              "          dataTable['output_type'] = 'display_data';\n",
              "          await google.colab.output.renderOutput(dataTable, element);\n",
              "          const docLink = document.createElement('div');\n",
              "          docLink.innerHTML = docLinkHtml;\n",
              "          element.appendChild(docLink);\n",
              "        }\n",
              "      </script>\n",
              "    </div>\n",
              "  </div>\n",
              "  "
            ]
          },
          "metadata": {},
          "execution_count": 3
        }
      ]
    },
    {
      "cell_type": "code",
      "source": [
        "# Checking for columns in the data\n",
        "data.columns"
      ],
      "metadata": {
        "colab": {
          "base_uri": "https://localhost:8080/"
        },
        "id": "ypJu5lBjTWc0",
        "outputId": "46db3314-0d67-42e8-c952-5b1520b02c7e"
      },
      "execution_count": null,
      "outputs": [
        {
          "output_type": "execute_result",
          "data": {
            "text/plain": [
              "Index(['accountNumber', 'customerId', 'creditLimit', 'availableMoney',\n",
              "       'transactionDateTime', 'transactionAmount', 'merchantName',\n",
              "       'acqCountry', 'merchantCountryCode', 'posEntryMode', 'posConditionCode',\n",
              "       'merchantCategoryCode', 'currentExpDate', 'accountOpenDate',\n",
              "       'dateOfLastAddressChange', 'cardCVV', 'enteredCVV', 'cardLast4Digits',\n",
              "       'transactionType', 'echoBuffer', 'currentBalance', 'merchantCity',\n",
              "       'merchantState', 'merchantZip', 'cardPresent', 'posOnPremises',\n",
              "       'recurringAuthInd', 'expirationDateKeyInMatch', 'isFraud'],\n",
              "      dtype='object')"
            ]
          },
          "metadata": {},
          "execution_count": 4
        }
      ]
    },
    {
      "cell_type": "code",
      "source": [
        "# Basic information about the dataset\n",
        "data.info()"
      ],
      "metadata": {
        "colab": {
          "base_uri": "https://localhost:8080/"
        },
        "id": "HT6NElhjTX6D",
        "outputId": "f699626d-2705-4069-ce88-b3a786e5339a"
      },
      "execution_count": null,
      "outputs": [
        {
          "output_type": "stream",
          "name": "stdout",
          "text": [
            "<class 'pandas.core.frame.DataFrame'>\n",
            "RangeIndex: 786363 entries, 0 to 786362\n",
            "Data columns (total 29 columns):\n",
            " #   Column                    Non-Null Count   Dtype  \n",
            "---  ------                    --------------   -----  \n",
            " 0   accountNumber             786363 non-null  int64  \n",
            " 1   customerId                786363 non-null  int64  \n",
            " 2   creditLimit               786363 non-null  int64  \n",
            " 3   availableMoney            786363 non-null  float64\n",
            " 4   transactionDateTime       786363 non-null  object \n",
            " 5   transactionAmount         786363 non-null  float64\n",
            " 6   merchantName              786363 non-null  object \n",
            " 7   acqCountry                786363 non-null  object \n",
            " 8   merchantCountryCode       786363 non-null  object \n",
            " 9   posEntryMode              786363 non-null  object \n",
            " 10  posConditionCode          786363 non-null  object \n",
            " 11  merchantCategoryCode      786363 non-null  object \n",
            " 12  currentExpDate            786363 non-null  object \n",
            " 13  accountOpenDate           786363 non-null  object \n",
            " 14  dateOfLastAddressChange   786363 non-null  object \n",
            " 15  cardCVV                   786363 non-null  int64  \n",
            " 16  enteredCVV                786363 non-null  int64  \n",
            " 17  cardLast4Digits           786363 non-null  int64  \n",
            " 18  transactionType           786363 non-null  object \n",
            " 19  echoBuffer                786363 non-null  object \n",
            " 20  currentBalance            786363 non-null  float64\n",
            " 21  merchantCity              786363 non-null  object \n",
            " 22  merchantState             786363 non-null  object \n",
            " 23  merchantZip               786363 non-null  object \n",
            " 24  cardPresent               786363 non-null  bool   \n",
            " 25  posOnPremises             786363 non-null  object \n",
            " 26  recurringAuthInd          786363 non-null  object \n",
            " 27  expirationDateKeyInMatch  786363 non-null  bool   \n",
            " 28  isFraud                   786363 non-null  bool   \n",
            "dtypes: bool(3), float64(3), int64(6), object(17)\n",
            "memory usage: 158.2+ MB\n"
          ]
        }
      ]
    },
    {
      "cell_type": "code",
      "source": [
        "# Basic description of the dataset with maximum and minimum values\n",
        "data.describe()"
      ],
      "metadata": {
        "colab": {
          "base_uri": "https://localhost:8080/",
          "height": 300
        },
        "id": "oMdyyRpCTaZb",
        "outputId": "96d352cd-ee52-4c84-9378-52a228083337"
      },
      "execution_count": null,
      "outputs": [
        {
          "output_type": "execute_result",
          "data": {
            "text/plain": [
              "       accountNumber    customerId    creditLimit  availableMoney  \\\n",
              "count   7.863630e+05  7.863630e+05  786363.000000   786363.000000   \n",
              "mean    5.372326e+08  5.372326e+08   10759.464459     6250.725369   \n",
              "std     2.554211e+08  2.554211e+08   11636.174890     8880.783989   \n",
              "min     1.000881e+08  1.000881e+08     250.000000    -1005.630000   \n",
              "25%     3.301333e+08  3.301333e+08    5000.000000     1077.420000   \n",
              "50%     5.074561e+08  5.074561e+08    7500.000000     3184.860000   \n",
              "75%     7.676200e+08  7.676200e+08   15000.000000     7500.000000   \n",
              "max     9.993896e+08  9.993896e+08   50000.000000    50000.000000   \n",
              "\n",
              "       transactionAmount        cardCVV     enteredCVV  cardLast4Digits  \\\n",
              "count      786363.000000  786363.000000  786363.000000    786363.000000   \n",
              "mean          136.985791     544.467338     544.183857      4757.417799   \n",
              "std           147.725569     261.524220     261.551254      2996.583810   \n",
              "min             0.000000     100.000000       0.000000         0.000000   \n",
              "25%            33.650000     310.000000     310.000000      2178.000000   \n",
              "50%            87.900000     535.000000     535.000000      4733.000000   \n",
              "75%           191.480000     785.000000     785.000000      7338.000000   \n",
              "max          2011.540000     998.000000     998.000000      9998.000000   \n",
              "\n",
              "       currentBalance  \n",
              "count   786363.000000  \n",
              "mean      4508.739089  \n",
              "std       6457.442068  \n",
              "min          0.000000  \n",
              "25%        689.910000  \n",
              "50%       2451.760000  \n",
              "75%       5291.095000  \n",
              "max      47498.810000  "
            ],
            "text/html": [
              "\n",
              "  <div id=\"df-15f8860e-45ea-4748-8417-d4ea4911949d\">\n",
              "    <div class=\"colab-df-container\">\n",
              "      <div>\n",
              "<style scoped>\n",
              "    .dataframe tbody tr th:only-of-type {\n",
              "        vertical-align: middle;\n",
              "    }\n",
              "\n",
              "    .dataframe tbody tr th {\n",
              "        vertical-align: top;\n",
              "    }\n",
              "\n",
              "    .dataframe thead th {\n",
              "        text-align: right;\n",
              "    }\n",
              "</style>\n",
              "<table border=\"1\" class=\"dataframe\">\n",
              "  <thead>\n",
              "    <tr style=\"text-align: right;\">\n",
              "      <th></th>\n",
              "      <th>accountNumber</th>\n",
              "      <th>customerId</th>\n",
              "      <th>creditLimit</th>\n",
              "      <th>availableMoney</th>\n",
              "      <th>transactionAmount</th>\n",
              "      <th>cardCVV</th>\n",
              "      <th>enteredCVV</th>\n",
              "      <th>cardLast4Digits</th>\n",
              "      <th>currentBalance</th>\n",
              "    </tr>\n",
              "  </thead>\n",
              "  <tbody>\n",
              "    <tr>\n",
              "      <th>count</th>\n",
              "      <td>7.863630e+05</td>\n",
              "      <td>7.863630e+05</td>\n",
              "      <td>786363.000000</td>\n",
              "      <td>786363.000000</td>\n",
              "      <td>786363.000000</td>\n",
              "      <td>786363.000000</td>\n",
              "      <td>786363.000000</td>\n",
              "      <td>786363.000000</td>\n",
              "      <td>786363.000000</td>\n",
              "    </tr>\n",
              "    <tr>\n",
              "      <th>mean</th>\n",
              "      <td>5.372326e+08</td>\n",
              "      <td>5.372326e+08</td>\n",
              "      <td>10759.464459</td>\n",
              "      <td>6250.725369</td>\n",
              "      <td>136.985791</td>\n",
              "      <td>544.467338</td>\n",
              "      <td>544.183857</td>\n",
              "      <td>4757.417799</td>\n",
              "      <td>4508.739089</td>\n",
              "    </tr>\n",
              "    <tr>\n",
              "      <th>std</th>\n",
              "      <td>2.554211e+08</td>\n",
              "      <td>2.554211e+08</td>\n",
              "      <td>11636.174890</td>\n",
              "      <td>8880.783989</td>\n",
              "      <td>147.725569</td>\n",
              "      <td>261.524220</td>\n",
              "      <td>261.551254</td>\n",
              "      <td>2996.583810</td>\n",
              "      <td>6457.442068</td>\n",
              "    </tr>\n",
              "    <tr>\n",
              "      <th>min</th>\n",
              "      <td>1.000881e+08</td>\n",
              "      <td>1.000881e+08</td>\n",
              "      <td>250.000000</td>\n",
              "      <td>-1005.630000</td>\n",
              "      <td>0.000000</td>\n",
              "      <td>100.000000</td>\n",
              "      <td>0.000000</td>\n",
              "      <td>0.000000</td>\n",
              "      <td>0.000000</td>\n",
              "    </tr>\n",
              "    <tr>\n",
              "      <th>25%</th>\n",
              "      <td>3.301333e+08</td>\n",
              "      <td>3.301333e+08</td>\n",
              "      <td>5000.000000</td>\n",
              "      <td>1077.420000</td>\n",
              "      <td>33.650000</td>\n",
              "      <td>310.000000</td>\n",
              "      <td>310.000000</td>\n",
              "      <td>2178.000000</td>\n",
              "      <td>689.910000</td>\n",
              "    </tr>\n",
              "    <tr>\n",
              "      <th>50%</th>\n",
              "      <td>5.074561e+08</td>\n",
              "      <td>5.074561e+08</td>\n",
              "      <td>7500.000000</td>\n",
              "      <td>3184.860000</td>\n",
              "      <td>87.900000</td>\n",
              "      <td>535.000000</td>\n",
              "      <td>535.000000</td>\n",
              "      <td>4733.000000</td>\n",
              "      <td>2451.760000</td>\n",
              "    </tr>\n",
              "    <tr>\n",
              "      <th>75%</th>\n",
              "      <td>7.676200e+08</td>\n",
              "      <td>7.676200e+08</td>\n",
              "      <td>15000.000000</td>\n",
              "      <td>7500.000000</td>\n",
              "      <td>191.480000</td>\n",
              "      <td>785.000000</td>\n",
              "      <td>785.000000</td>\n",
              "      <td>7338.000000</td>\n",
              "      <td>5291.095000</td>\n",
              "    </tr>\n",
              "    <tr>\n",
              "      <th>max</th>\n",
              "      <td>9.993896e+08</td>\n",
              "      <td>9.993896e+08</td>\n",
              "      <td>50000.000000</td>\n",
              "      <td>50000.000000</td>\n",
              "      <td>2011.540000</td>\n",
              "      <td>998.000000</td>\n",
              "      <td>998.000000</td>\n",
              "      <td>9998.000000</td>\n",
              "      <td>47498.810000</td>\n",
              "    </tr>\n",
              "  </tbody>\n",
              "</table>\n",
              "</div>\n",
              "      <button class=\"colab-df-convert\" onclick=\"convertToInteractive('df-15f8860e-45ea-4748-8417-d4ea4911949d')\"\n",
              "              title=\"Convert this dataframe to an interactive table.\"\n",
              "              style=\"display:none;\">\n",
              "        \n",
              "  <svg xmlns=\"http://www.w3.org/2000/svg\" height=\"24px\"viewBox=\"0 0 24 24\"\n",
              "       width=\"24px\">\n",
              "    <path d=\"M0 0h24v24H0V0z\" fill=\"none\"/>\n",
              "    <path d=\"M18.56 5.44l.94 2.06.94-2.06 2.06-.94-2.06-.94-.94-2.06-.94 2.06-2.06.94zm-11 1L8.5 8.5l.94-2.06 2.06-.94-2.06-.94L8.5 2.5l-.94 2.06-2.06.94zm10 10l.94 2.06.94-2.06 2.06-.94-2.06-.94-.94-2.06-.94 2.06-2.06.94z\"/><path d=\"M17.41 7.96l-1.37-1.37c-.4-.4-.92-.59-1.43-.59-.52 0-1.04.2-1.43.59L10.3 9.45l-7.72 7.72c-.78.78-.78 2.05 0 2.83L4 21.41c.39.39.9.59 1.41.59.51 0 1.02-.2 1.41-.59l7.78-7.78 2.81-2.81c.8-.78.8-2.07 0-2.86zM5.41 20L4 18.59l7.72-7.72 1.47 1.35L5.41 20z\"/>\n",
              "  </svg>\n",
              "      </button>\n",
              "      \n",
              "  <style>\n",
              "    .colab-df-container {\n",
              "      display:flex;\n",
              "      flex-wrap:wrap;\n",
              "      gap: 12px;\n",
              "    }\n",
              "\n",
              "    .colab-df-convert {\n",
              "      background-color: #E8F0FE;\n",
              "      border: none;\n",
              "      border-radius: 50%;\n",
              "      cursor: pointer;\n",
              "      display: none;\n",
              "      fill: #1967D2;\n",
              "      height: 32px;\n",
              "      padding: 0 0 0 0;\n",
              "      width: 32px;\n",
              "    }\n",
              "\n",
              "    .colab-df-convert:hover {\n",
              "      background-color: #E2EBFA;\n",
              "      box-shadow: 0px 1px 2px rgba(60, 64, 67, 0.3), 0px 1px 3px 1px rgba(60, 64, 67, 0.15);\n",
              "      fill: #174EA6;\n",
              "    }\n",
              "\n",
              "    [theme=dark] .colab-df-convert {\n",
              "      background-color: #3B4455;\n",
              "      fill: #D2E3FC;\n",
              "    }\n",
              "\n",
              "    [theme=dark] .colab-df-convert:hover {\n",
              "      background-color: #434B5C;\n",
              "      box-shadow: 0px 1px 3px 1px rgba(0, 0, 0, 0.15);\n",
              "      filter: drop-shadow(0px 1px 2px rgba(0, 0, 0, 0.3));\n",
              "      fill: #FFFFFF;\n",
              "    }\n",
              "  </style>\n",
              "\n",
              "      <script>\n",
              "        const buttonEl =\n",
              "          document.querySelector('#df-15f8860e-45ea-4748-8417-d4ea4911949d button.colab-df-convert');\n",
              "        buttonEl.style.display =\n",
              "          google.colab.kernel.accessAllowed ? 'block' : 'none';\n",
              "\n",
              "        async function convertToInteractive(key) {\n",
              "          const element = document.querySelector('#df-15f8860e-45ea-4748-8417-d4ea4911949d');\n",
              "          const dataTable =\n",
              "            await google.colab.kernel.invokeFunction('convertToInteractive',\n",
              "                                                     [key], {});\n",
              "          if (!dataTable) return;\n",
              "\n",
              "          const docLinkHtml = 'Like what you see? Visit the ' +\n",
              "            '<a target=\"_blank\" href=https://colab.research.google.com/notebooks/data_table.ipynb>data table notebook</a>'\n",
              "            + ' to learn more about interactive tables.';\n",
              "          element.innerHTML = '';\n",
              "          dataTable['output_type'] = 'display_data';\n",
              "          await google.colab.output.renderOutput(dataTable, element);\n",
              "          const docLink = document.createElement('div');\n",
              "          docLink.innerHTML = docLinkHtml;\n",
              "          element.appendChild(docLink);\n",
              "        }\n",
              "      </script>\n",
              "    </div>\n",
              "  </div>\n",
              "  "
            ]
          },
          "metadata": {},
          "execution_count": 6
        }
      ]
    },
    {
      "cell_type": "code",
      "source": [
        "# Number of unique values per column\n",
        "data.nunique()"
      ],
      "metadata": {
        "colab": {
          "base_uri": "https://localhost:8080/"
        },
        "id": "dAcdUffg5WA5",
        "outputId": "a24ab31d-1f82-42de-d89f-e841e82106d3"
      },
      "execution_count": null,
      "outputs": [
        {
          "output_type": "execute_result",
          "data": {
            "text/plain": [
              "accountNumber                 5000\n",
              "customerId                    5000\n",
              "creditLimit                     10\n",
              "availableMoney              521915\n",
              "transactionDateTime         776637\n",
              "transactionAmount            66038\n",
              "merchantName                  2490\n",
              "acqCountry                       5\n",
              "merchantCountryCode              5\n",
              "posEntryMode                     6\n",
              "posConditionCode                 4\n",
              "merchantCategoryCode            19\n",
              "currentExpDate                 165\n",
              "accountOpenDate               1820\n",
              "dateOfLastAddressChange       2184\n",
              "cardCVV                        899\n",
              "enteredCVV                     976\n",
              "cardLast4Digits               5245\n",
              "transactionType                  4\n",
              "echoBuffer                       1\n",
              "currentBalance              487318\n",
              "merchantCity                     1\n",
              "merchantState                    1\n",
              "merchantZip                      1\n",
              "cardPresent                      2\n",
              "posOnPremises                    1\n",
              "recurringAuthInd                 1\n",
              "expirationDateKeyInMatch         2\n",
              "isFraud                          2\n",
              "dtype: int64"
            ]
          },
          "metadata": {},
          "execution_count": 7
        }
      ]
    },
    {
      "cell_type": "code",
      "source": [
        "# Some cells have empty strings, replacing those with nan since nan can be handled easier\n",
        "data.replace('', np.nan, inplace=True)"
      ],
      "metadata": {
        "id": "TQ2rdRKi-uro"
      },
      "execution_count": null,
      "outputs": []
    },
    {
      "cell_type": "markdown",
      "source": [
        "## 1.3 Handle Missing Values"
      ],
      "metadata": {
        "id": "DhUOQztmunZy"
      }
    },
    {
      "cell_type": "code",
      "source": [
        "# Get a count of missing values in each feature\n",
        "print(data.isnull().sum())"
      ],
      "metadata": {
        "colab": {
          "base_uri": "https://localhost:8080/"
        },
        "id": "-pWWBPsV5D6w",
        "outputId": "dfc1ce59-22bd-4305-b5b2-68771249f7d4"
      },
      "execution_count": null,
      "outputs": [
        {
          "output_type": "stream",
          "name": "stdout",
          "text": [
            "accountNumber                    0\n",
            "customerId                       0\n",
            "creditLimit                      0\n",
            "availableMoney                   0\n",
            "transactionDateTime              0\n",
            "transactionAmount                0\n",
            "merchantName                     0\n",
            "acqCountry                    4562\n",
            "merchantCountryCode            724\n",
            "posEntryMode                  4054\n",
            "posConditionCode               409\n",
            "merchantCategoryCode             0\n",
            "currentExpDate                   0\n",
            "accountOpenDate                  0\n",
            "dateOfLastAddressChange          0\n",
            "cardCVV                          0\n",
            "enteredCVV                       0\n",
            "cardLast4Digits                  0\n",
            "transactionType                698\n",
            "echoBuffer                  786363\n",
            "currentBalance                   0\n",
            "merchantCity                786363\n",
            "merchantState               786363\n",
            "merchantZip                 786363\n",
            "cardPresent                      0\n",
            "posOnPremises               786363\n",
            "recurringAuthInd            786363\n",
            "expirationDateKeyInMatch         0\n",
            "isFraud                          0\n",
            "dtype: int64\n"
          ]
        }
      ]
    },
    {
      "cell_type": "markdown",
      "source": [
        "As we can see, few columns are completely empty, so we need to remove those right away."
      ],
      "metadata": {
        "id": "U1n2lYzWBT-o"
      }
    },
    {
      "cell_type": "code",
      "source": [
        "emptyColumns = ['echoBuffer', 'merchantCity', 'merchantState', 'merchantZip', 'posOnPremises', 'recurringAuthInd']\n",
        "data.drop(emptyColumns, axis=1, inplace=True)"
      ],
      "metadata": {
        "id": "0e-UWncUEIbP"
      },
      "execution_count": null,
      "outputs": []
    },
    {
      "cell_type": "markdown",
      "source": [
        "# 2. Plot"
      ],
      "metadata": {
        "id": "F7MIwKH6C6Gb"
      }
    },
    {
      "cell_type": "code",
      "source": [
        "plt.hist(data['transactionAmount'], bins=100)\n",
        "plt.xlabel('Transaction Amount')\n",
        "plt.ylabel('Count')\n",
        "plt.title('Histogram of Transaction Amount')\n",
        "plt.show()"
      ],
      "metadata": {
        "colab": {
          "base_uri": "https://localhost:8080/",
          "height": 295
        },
        "id": "BfjgC1xF5asw",
        "outputId": "651b59fa-fce0-44ac-b815-eda67eb14f8a"
      },
      "execution_count": null,
      "outputs": [
        {
          "output_type": "display_data",
          "data": {
            "text/plain": [
              "<Figure size 432x288 with 1 Axes>"
            ],
            "image/png": "[encoded data removed]"
          },
          "metadata": {
            "needs_background": "light"
          }
        }
      ]
    },
    {
      "cell_type": "markdown",
      "source": [
        "Based on the histogram, we can see that the distribution of transaction amounts is highly skewed to the right, with a long tail of high-value transactions. There is a sharp peak at around 0, which represents the large number of transactions with small amounts. This suggests that there may be a large number of low-value transactions made by a large number of customers, and a small number of high-value transactions made by a smaller number of customers.\n",
        "\n",
        "One hypothesis for the long tail of high-value transactions is that they may be related to specific merchants or types of transactions. For example, large transactions may be more common for travel-related expenses or high-end luxury goods."
      ],
      "metadata": {
        "id": "vKCZD5qofn52"
      }
    },
    {
      "cell_type": "code",
      "source": [
        "le = LabelEncoder()\n",
        "data['isFraud'] = le.fit_transform(data['isFraud'])"
      ],
      "metadata": {
        "id": "44XUeRP8dy-m"
      },
      "execution_count": null,
      "outputs": []
    },
    {
      "cell_type": "code",
      "source": [
        "sns.catplot(data=data, x=\"acqCountry\", y=\"isFraud\", kind=\"bar\")"
      ],
      "metadata": {
        "colab": {
          "base_uri": "https://localhost:8080/",
          "height": 386
        },
        "id": "SUilbJxbc8zm",
        "outputId": "8069cb57-0946-44af-d4fd-06a41192395d"
      },
      "execution_count": null,
      "outputs": [
        {
          "output_type": "execute_result",
          "data": {
            "text/plain": [
              "<seaborn.axisgrid.FacetGrid at 0x7fa7ca826790>"
            ]
          },
          "metadata": {},
          "execution_count": 13
        },
        {
          "output_type": "display_data",
          "data": {
            "text/plain": [
              "<Figure size 360x360 with 1 Axes>"
            ],
            "image/png": "[encoded data removed]"
          },
          "metadata": {
            "needs_background": "light"
          }
        }
      ]
    },
    {
      "cell_type": "code",
      "source": [
        "sns.catplot(data=data, x=\"merchantCountryCode\", y=\"isFraud\", kind=\"bar\")"
      ],
      "metadata": {
        "colab": {
          "base_uri": "https://localhost:8080/",
          "height": 386
        },
        "id": "AQoKMj8mfAme",
        "outputId": "ed3c664c-dc57-45a5-f61d-31f23bdb5d71"
      },
      "execution_count": null,
      "outputs": [
        {
          "output_type": "execute_result",
          "data": {
            "text/plain": [
              "<seaborn.axisgrid.FacetGrid at 0x7fa8d1310dc0>"
            ]
          },
          "metadata": {},
          "execution_count": 14
        },
        {
          "output_type": "display_data",
          "data": {
            "text/plain": [
              "<Figure size 360x360 with 1 Axes>"
            ],
            "image/png": "[encoded data removed]"
          },
          "metadata": {
            "needs_background": "light"
          }
        }
      ]
    },
    {
      "cell_type": "code",
      "source": [
        "sns.catplot(data=data, x=\"posEntryMode\", y=\"isFraud\", kind=\"bar\")"
      ],
      "metadata": {
        "colab": {
          "base_uri": "https://localhost:8080/",
          "height": 386
        },
        "id": "xFPNs0pTfAdW",
        "outputId": "62c73998-663d-4982-facb-f55cedb4e963"
      },
      "execution_count": null,
      "outputs": [
        {
          "output_type": "execute_result",
          "data": {
            "text/plain": [
              "<seaborn.axisgrid.FacetGrid at 0x7fa737782d00>"
            ]
          },
          "metadata": {},
          "execution_count": 15
        },
        {
          "output_type": "display_data",
          "data": {
            "text/plain": [
              "<Figure size 360x360 with 1 Axes>"
            ],
            "image/png": "[encoded data removed]"
          },
          "metadata": {
            "needs_background": "light"
          }
        }
      ]
    },
    {
      "cell_type": "code",
      "source": [
        "sns.catplot(data=data, x=\"posConditionCode\", y=\"isFraud\", kind=\"bar\")"
      ],
      "metadata": {
        "colab": {
          "base_uri": "https://localhost:8080/",
          "height": 386
        },
        "id": "30N_MI6QfAF-",
        "outputId": "5fe129da-2d03-4db5-c0ae-20690eff12d6"
      },
      "execution_count": null,
      "outputs": [
        {
          "output_type": "execute_result",
          "data": {
            "text/plain": [
              "<seaborn.axisgrid.FacetGrid at 0x7fa7c6482970>"
            ]
          },
          "metadata": {},
          "execution_count": 16
        },
        {
          "output_type": "display_data",
          "data": {
            "text/plain": [
              "<Figure size 360x360 with 1 Axes>"
            ],
            "image/png": "[encoded data removed]"
          },
          "metadata": {
            "needs_background": "light"
          }
        }
      ]
    },
    {
      "cell_type": "code",
      "source": [
        "sns.catplot(data=data, x=\"transactionType\", y=\"isFraud\", kind=\"bar\")"
      ],
      "metadata": {
        "colab": {
          "base_uri": "https://localhost:8080/",
          "height": 386
        },
        "id": "C2tDxQdziV48",
        "outputId": "1ec9d9e0-2b8c-47a9-d9f8-5c771e435414"
      },
      "execution_count": null,
      "outputs": [
        {
          "output_type": "execute_result",
          "data": {
            "text/plain": [
              "<seaborn.axisgrid.FacetGrid at 0x7fa7c656c430>"
            ]
          },
          "metadata": {},
          "execution_count": 17
        },
        {
          "output_type": "display_data",
          "data": {
            "text/plain": [
              "<Figure size 360x360 with 1 Axes>"
            ],
            "image/png": "[encoded data removed]"
          },
          "metadata": {
            "needs_background": "light"
          }
        }
      ]
    },
    {
      "cell_type": "code",
      "source": [
        "sns.catplot(data=data, x=\"creditLimit\", y=\"isFraud\", kind=\"bar\")"
      ],
      "metadata": {
        "colab": {
          "base_uri": "https://localhost:8080/",
          "height": 386
        },
        "id": "xcIUBABiprfv",
        "outputId": "75ecd9ee-4b82-4148-82ee-2229b5efdc29"
      },
      "execution_count": null,
      "outputs": [
        {
          "output_type": "execute_result",
          "data": {
            "text/plain": [
              "<seaborn.axisgrid.FacetGrid at 0x7fa7cb282f10>"
            ]
          },
          "metadata": {},
          "execution_count": 18
        },
        {
          "output_type": "display_data",
          "data": {
            "text/plain": [
              "<Figure size 360x360 with 1 Axes>"
            ],
            "image/png": "[encoded data removed]"
          },
          "metadata": {
            "needs_background": "light"
          }
        }
      ]
    },
    {
      "cell_type": "markdown",
      "source": [
        "Based on the above graphs, we can see that these features seem important as the variation in these features have an effect on the fraud transactions."
      ],
      "metadata": {
        "id": "1ArQcD5gpbib"
      }
    },
    {
      "cell_type": "code",
      "source": [
        "fig, ax = plt.subplots(nrows=1, ncols=4, figsize=(30,20))\n",
        "\n",
        "columns = ['creditLimit', 'availableMoney', 'transactionAmount', 'currentBalance']\n",
        "colors = ['#3C91E6', '#76F7BF', '#34F6F2', '#59C9A5']\n",
        "\n",
        "for i in range(len(columns)):\n",
        "    sns.boxplot(data=data, x=columns[i], ax=ax[i], color=colors[i], orient='v')\n",
        "    ax[i].set_xlabel(columns[i], fontsize=15)\n",
        "    ax[i].set_ylabel('')\n",
        "plt.suptitle('Distribution of Data', fontsize=20.\n",
        "             )\n",
        "fig.subplots_adjust(top=0.95)"
      ],
      "metadata": {
        "colab": {
          "base_uri": "https://localhost:8080/",
          "height": 1000
        },
        "id": "WsVgn0bIa7WX",
        "outputId": "4da6c4ee-047c-4c22-eeca-1ee262ee4715"
      },
      "execution_count": null,
      "outputs": [
        {
          "output_type": "stream",
          "name": "stderr",
          "text": [
            "/usr/local/lib/python3.8/dist-packages/seaborn/_core.py:1326: UserWarning: Vertical orientation ignored with only `x` specified.\n",
            "  warnings.warn(single_var_warning.format(\"Vertical\", \"x\"))\n",
            "/usr/local/lib/python3.8/dist-packages/seaborn/_core.py:1326: UserWarning: Vertical orientation ignored with only `x` specified.\n",
            "  warnings.warn(single_var_warning.format(\"Vertical\", \"x\"))\n",
            "/usr/local/lib/python3.8/dist-packages/seaborn/_core.py:1326: UserWarning: Vertical orientation ignored with only `x` specified.\n",
            "  warnings.warn(single_var_warning.format(\"Vertical\", \"x\"))\n",
            "/usr/local/lib/python3.8/dist-packages/seaborn/_core.py:1326: UserWarning: Vertical orientation ignored with only `x` specified.\n",
            "  warnings.warn(single_var_warning.format(\"Vertical\", \"x\"))\n"
          ]
        },
        {
          "output_type": "display_data",
          "data": {
            "text/plain": [
              "<Figure size 2160x1440 with 4 Axes>"
            ],
            "image/png": "[encoded data removed]"
          },
          "metadata": {}
        }
      ]
    },
    {
      "cell_type": "markdown",
      "source": [
        "1. Credit Limit: There seems to be a few outliers at 50000\n",
        "2. availableMoney: Right skewed, few outliers increasing the mean slightly\n",
        "3. transactionAmount: Right skewed, few outlier increasing the mean slightly\n",
        "4. currentBalance: Right skewed, average bank balance is on the low side"
      ],
      "metadata": {
        "id": "8z9s8j9i1JKZ"
      }
    },
    {
      "cell_type": "markdown",
      "source": [
        "# 3. Data Wrangling - Duplicate Transactions"
      ],
      "metadata": {
        "id": "6qR_DgZlFDWA"
      }
    },
    {
      "cell_type": "code",
      "source": [
        "reversed_transactions = data[data['transactionType'] == 'REVERSAL']\n",
        "total_reversed_transactions = len(reversed_transactions)\n",
        "total_reversed_amount = reversed_transactions['transactionAmount'].sum()\n",
        "\n",
        "multi_swipe_transactions = []\n",
        "for cust_id in data['accountNumber'].unique():\n",
        "    card_transactions = data[data['accountNumber'] == cust_id].sort_values(by=['merchantName', 'transactionDateTime'])\n",
        "    for i in range(1, len(card_transactions)):\n",
        "        current = datetime.strptime(card_transactions.iloc[i]['transactionDateTime'].replace('T', ' '), '%Y-%m-%d %H:%M:%S')\n",
        "        previous = datetime.strptime(card_transactions.iloc[i-1]['transactionDateTime'].replace('T', ' '), '%Y-%m-%d %H:%M:%S')\n",
        "        if (current - previous).total_seconds() <= 300:\n",
        "            if card_transactions.iloc[i]['transactionAmount'] == card_transactions.iloc[i-1]['transactionAmount'] and card_transactions.iloc[i]['merchantName'] == card_transactions.iloc[i-1]['merchantName']:\n",
        "                multi_swipe_transactions.append(card_transactions.iloc[i])\n",
        "\n",
        "multi_swipe_transactions = pd.DataFrame(multi_swipe_transactions)"
      ],
      "metadata": {
        "id": "TCc1Ea-Q5mng"
      },
      "execution_count": null,
      "outputs": []
    },
    {
      "cell_type": "code",
      "source": [
        "print(\"Total number of reversed transactions:\", total_reversed_transactions)\n",
        "print(\"Total dollar amount of reversed transactions:\", total_reversed_amount)\n",
        "print(\"Total number of multi-swipe transactions:\", len(multi_swipe_transactions))\n",
        "print(\"Total dollar amount of multi-swipe transactions:\", multi_swipe_transactions['transactionAmount'].sum())"
      ],
      "metadata": {
        "colab": {
          "base_uri": "https://localhost:8080/"
        },
        "id": "vvgXUrEkWcqD",
        "outputId": "b63d0320-8767-4b83-9378-899aa2ffcb22"
      },
      "execution_count": null,
      "outputs": [
        {
          "output_type": "stream",
          "name": "stdout",
          "text": [
            "Total number of reversed transactions: 20303\n",
            "Total dollar amount of reversed transactions: 2821792.5\n",
            "Total number of multi-swipe transactions: 13386\n",
            "Total dollar amount of multi-swipe transactions: 1931880.14\n"
          ]
        }
      ]
    },
    {
      "cell_type": "markdown",
      "source": [
        "One interesting thing about the reversed transactions is that the average transaction amount is higher than that of normal transactions (138.98 vs 136.99), indicating that fraudsters may be more likely to target larger transactions for reversal. For multi-swipe transactions, the average transaction amount is also higher than that of normal transactions ($144.32 vs $136.99), suggesting that certain types of merchants or transactions may be more prone to accidental multiple charges.\n",
        "\n",
        "Also, after experimenting, I found that as I increase the time margin for finding multi swipe transactions, we get more such transactions. But the number stabalizes as the time margin goes above 200 seconds."
      ],
      "metadata": {
        "id": "-6hStP60rbOE"
      }
    },
    {
      "cell_type": "code",
      "source": [
        "# Removing reveresed and multi swipe transactions to remove invalidity from the data\n",
        "indices_to_remove = set(reversed_transactions.index).union(set(multi_swipe_transactions.index))\n",
        "cleaned_transactions = data.drop(list(indices_to_remove))"
      ],
      "metadata": {
        "id": "OX6QXy9ZzD_D"
      },
      "execution_count": null,
      "outputs": []
    },
    {
      "cell_type": "markdown",
      "source": [
        "# 4. Model"
      ],
      "metadata": {
        "id": "JGTMv46dHusi"
      }
    },
    {
      "cell_type": "markdown",
      "source": [
        "## 4.1 Feature Engineering"
      ],
      "metadata": {
        "id": "XGJCTFbwJDwf"
      }
    },
    {
      "cell_type": "markdown",
      "source": [
        "Logically, if the entered CVV is not the same as the card CVV then the transaction is invalid. Hence, We'll only consider transactions in which both the CVVs match."
      ],
      "metadata": {
        "id": "0xSB54sJsreX"
      }
    },
    {
      "cell_type": "code",
      "source": [
        "cleaned_transactions['matchingCVV'] = cleaned_transactions['cardCVV'] == cleaned_transactions['enteredCVV']\n",
        "\n",
        "for column in ['cardPresent', 'expirationDateKeyInMatch', 'matchingCVV']:\n",
        "    cleaned_transactions[column].replace({True: 1, False: 0}, inplace=True)"
      ],
      "metadata": {
        "id": "qSPTMMMzvaLR"
      },
      "execution_count": null,
      "outputs": []
    },
    {
      "cell_type": "code",
      "source": [
        "cleaned_transactions.corr()"
      ],
      "metadata": {
        "colab": {
          "base_uri": "https://localhost:8080/",
          "height": 521
        },
        "id": "CFQ_ZkM62V48",
        "outputId": "340e93f7-7714-44e4-9e0e-aff0fa334365"
      },
      "execution_count": null,
      "outputs": [
        {
          "output_type": "execute_result",
          "data": {
            "text/plain": [
              "                          accountNumber  customerId  creditLimit  \\\n",
              "accountNumber                  1.000000    1.000000     0.140409   \n",
              "customerId                     1.000000    1.000000     0.140409   \n",
              "creditLimit                    0.140409    0.140409     1.000000   \n",
              "availableMoney                 0.066194    0.066194     0.835159   \n",
              "transactionAmount             -0.001224   -0.001224     0.005575   \n",
              "cardCVV                       -0.011213   -0.011213     0.050444   \n",
              "enteredCVV                    -0.011173   -0.011173     0.050529   \n",
              "cardLast4Digits                0.038734    0.038734     0.124581   \n",
              "currentBalance                 0.161991    0.161991     0.652700   \n",
              "cardPresent                    0.005838    0.005838    -0.004113   \n",
              "expirationDateKeyInMatch      -0.001057   -0.001057     0.002380   \n",
              "isFraud                       -0.003941   -0.003941     0.003330   \n",
              "matchingCVV                    0.005147    0.005147     0.000958   \n",
              "\n",
              "                          availableMoney  transactionAmount   cardCVV  \\\n",
              "accountNumber                   0.066194          -0.001224 -0.011213   \n",
              "customerId                      0.066194          -0.001224 -0.011213   \n",
              "creditLimit                     0.835159           0.005575  0.050444   \n",
              "availableMoney                  1.000000          -0.010572  0.015838   \n",
              "transactionAmount              -0.010572           1.000000 -0.000425   \n",
              "cardCVV                         0.015838          -0.000425  1.000000   \n",
              "enteredCVV                      0.015907          -0.000369  0.995980   \n",
              "cardLast4Digits                 0.073247          -0.001689 -0.011599   \n",
              "currentBalance                  0.128413           0.024615  0.069140   \n",
              "cardPresent                     0.002007           0.037671 -0.045181   \n",
              "expirationDateKeyInMatch        0.004151           0.001785 -0.000609   \n",
              "isFraud                        -0.001423           0.075669  0.008657   \n",
              "matchingCVV                    -0.000880           0.001151 -0.002999   \n",
              "\n",
              "                          enteredCVV  cardLast4Digits  currentBalance  \\\n",
              "accountNumber              -0.011173         0.038734        0.161991   \n",
              "customerId                 -0.011173         0.038734        0.161991   \n",
              "creditLimit                 0.050529         0.124581        0.652700   \n",
              "availableMoney              0.015907         0.073247        0.128413   \n",
              "transactionAmount          -0.000369        -0.001689        0.024615   \n",
              "cardCVV                     0.995980        -0.011599        0.069140   \n",
              "enteredCVV                  1.000000        -0.011479        0.069197   \n",
              "cardLast4Digits            -0.011479         1.000000        0.123737   \n",
              "currentBalance              0.069197         0.123737        1.000000   \n",
              "cardPresent                -0.044989         0.041541       -0.010181   \n",
              "expirationDateKeyInMatch   -0.000389         0.002241       -0.001426   \n",
              "isFraud                     0.008659         0.000890        0.007965   \n",
              "matchingCVV                 0.008270        -0.001164        0.002940   \n",
              "\n",
              "                          cardPresent  expirationDateKeyInMatch   isFraud  \\\n",
              "accountNumber                0.005838                 -0.001057 -0.003941   \n",
              "customerId                   0.005838                 -0.001057 -0.003941   \n",
              "creditLimit                 -0.004113                  0.002380  0.003330   \n",
              "availableMoney               0.002007                  0.004151 -0.001423   \n",
              "transactionAmount            0.037671                  0.001785  0.075669   \n",
              "cardCVV                     -0.045181                 -0.000609  0.008657   \n",
              "enteredCVV                  -0.044989                 -0.000389  0.008659   \n",
              "cardLast4Digits              0.041541                  0.002241  0.000890   \n",
              "currentBalance              -0.010181                 -0.001426  0.007965   \n",
              "cardPresent                  1.000000                  0.040680 -0.043308   \n",
              "expirationDateKeyInMatch     0.040680                  1.000000 -0.001173   \n",
              "isFraud                     -0.043308                 -0.001173  1.000000   \n",
              "matchingCVV                  0.002996                  0.000034 -0.009731   \n",
              "\n",
              "                          matchingCVV  \n",
              "accountNumber                0.005147  \n",
              "customerId                   0.005147  \n",
              "creditLimit                  0.000958  \n",
              "availableMoney              -0.000880  \n",
              "transactionAmount            0.001151  \n",
              "cardCVV                     -0.002999  \n",
              "enteredCVV                   0.008270  \n",
              "cardLast4Digits             -0.001164  \n",
              "currentBalance               0.002940  \n",
              "cardPresent                  0.002996  \n",
              "expirationDateKeyInMatch     0.000034  \n",
              "isFraud                     -0.009731  \n",
              "matchingCVV                  1.000000  "
            ],
            "text/html": [
              "\n",
              "  <div id=\"df-9ce5e324-def5-4ddb-847a-85c55d5c0140\">\n",
              "    <div class=\"colab-df-container\">\n",
              "      <div>\n",
              "<style scoped>\n",
              "    .dataframe tbody tr th:only-of-type {\n",
              "        vertical-align: middle;\n",
              "    }\n",
              "\n",
              "    .dataframe tbody tr th {\n",
              "        vertical-align: top;\n",
              "    }\n",
              "\n",
              "    .dataframe thead th {\n",
              "        text-align: right;\n",
              "    }\n",
              "</style>\n",
              "<table border=\"1\" class=\"dataframe\">\n",
              "  <thead>\n",
              "    <tr style=\"text-align: right;\">\n",
              "      <th></th>\n",
              "      <th>accountNumber</th>\n",
              "      <th>customerId</th>\n",
              "      <th>creditLimit</th>\n",
              "      <th>availableMoney</th>\n",
              "      <th>transactionAmount</th>\n",
              "      <th>cardCVV</th>\n",
              "      <th>enteredCVV</th>\n",
              "      <th>cardLast4Digits</th>\n",
              "      <th>currentBalance</th>\n",
              "      <th>cardPresent</th>\n",
              "      <th>expirationDateKeyInMatch</th>\n",
              "      <th>isFraud</th>\n",
              "      <th>matchingCVV</th>\n",
              "    </tr>\n",
              "  </thead>\n",
              "  <tbody>\n",
              "    <tr>\n",
              "      <th>accountNumber</th>\n",
              "      <td>1.000000</td>\n",
              "      <td>1.000000</td>\n",
              "      <td>0.140409</td>\n",
              "      <td>0.066194</td>\n",
              "      <td>-0.001224</td>\n",
              "      <td>-0.011213</td>\n",
              "      <td>-0.011173</td>\n",
              "      <td>0.038734</td>\n",
              "      <td>0.161991</td>\n",
              "      <td>0.005838</td>\n",
              "      <td>-0.001057</td>\n",
              "      <td>-0.003941</td>\n",
              "      <td>0.005147</td>\n",
              "    </tr>\n",
              "    <tr>\n",
              "      <th>customerId</th>\n",
              "      <td>1.000000</td>\n",
              "      <td>1.000000</td>\n",
              "      <td>0.140409</td>\n",
              "      <td>0.066194</td>\n",
              "      <td>-0.001224</td>\n",
              "      <td>-0.011213</td>\n",
              "      <td>-0.011173</td>\n",
              "      <td>0.038734</td>\n",
              "      <td>0.161991</td>\n",
              "      <td>0.005838</td>\n",
              "      <td>-0.001057</td>\n",
              "      <td>-0.003941</td>\n",
              "      <td>0.005147</td>\n",
              "    </tr>\n",
              "    <tr>\n",
              "      <th>creditLimit</th>\n",
              "      <td>0.140409</td>\n",
              "      <td>0.140409</td>\n",
              "      <td>1.000000</td>\n",
              "      <td>0.835159</td>\n",
              "      <td>0.005575</td>\n",
              "      <td>0.050444</td>\n",
              "      <td>0.050529</td>\n",
              "      <td>0.124581</td>\n",
              "      <td>0.652700</td>\n",
              "      <td>-0.004113</td>\n",
              "      <td>0.002380</td>\n",
              "      <td>0.003330</td>\n",
              "      <td>0.000958</td>\n",
              "    </tr>\n",
              "    <tr>\n",
              "      <th>availableMoney</th>\n",
              "      <td>0.066194</td>\n",
              "      <td>0.066194</td>\n",
              "      <td>0.835159</td>\n",
              "      <td>1.000000</td>\n",
              "      <td>-0.010572</td>\n",
              "      <td>0.015838</td>\n",
              "      <td>0.015907</td>\n",
              "      <td>0.073247</td>\n",
              "      <td>0.128413</td>\n",
              "      <td>0.002007</td>\n",
              "      <td>0.004151</td>\n",
              "      <td>-0.001423</td>\n",
              "      <td>-0.000880</td>\n",
              "    </tr>\n",
              "    <tr>\n",
              "      <th>transactionAmount</th>\n",
              "      <td>-0.001224</td>\n",
              "      <td>-0.001224</td>\n",
              "      <td>0.005575</td>\n",
              "      <td>-0.010572</td>\n",
              "      <td>1.000000</td>\n",
              "      <td>-0.000425</td>\n",
              "      <td>-0.000369</td>\n",
              "      <td>-0.001689</td>\n",
              "      <td>0.024615</td>\n",
              "      <td>0.037671</td>\n",
              "      <td>0.001785</td>\n",
              "      <td>0.075669</td>\n",
              "      <td>0.001151</td>\n",
              "    </tr>\n",
              "    <tr>\n",
              "      <th>cardCVV</th>\n",
              "      <td>-0.011213</td>\n",
              "      <td>-0.011213</td>\n",
              "      <td>0.050444</td>\n",
              "      <td>0.015838</td>\n",
              "      <td>-0.000425</td>\n",
              "      <td>1.000000</td>\n",
              "      <td>0.995980</td>\n",
              "      <td>-0.011599</td>\n",
              "      <td>0.069140</td>\n",
              "      <td>-0.045181</td>\n",
              "      <td>-0.000609</td>\n",
              "      <td>0.008657</td>\n",
              "      <td>-0.002999</td>\n",
              "    </tr>\n",
              "    <tr>\n",
              "      <th>enteredCVV</th>\n",
              "      <td>-0.011173</td>\n",
              "      <td>-0.011173</td>\n",
              "      <td>0.050529</td>\n",
              "      <td>0.015907</td>\n",
              "      <td>-0.000369</td>\n",
              "      <td>0.995980</td>\n",
              "      <td>1.000000</td>\n",
              "      <td>-0.011479</td>\n",
              "      <td>0.069197</td>\n",
              "      <td>-0.044989</td>\n",
              "      <td>-0.000389</td>\n",
              "      <td>0.008659</td>\n",
              "      <td>0.008270</td>\n",
              "    </tr>\n",
              "    <tr>\n",
              "      <th>cardLast4Digits</th>\n",
              "      <td>0.038734</td>\n",
              "      <td>0.038734</td>\n",
              "      <td>0.124581</td>\n",
              "      <td>0.073247</td>\n",
              "      <td>-0.001689</td>\n",
              "      <td>-0.011599</td>\n",
              "      <td>-0.011479</td>\n",
              "      <td>1.000000</td>\n",
              "      <td>0.123737</td>\n",
              "      <td>0.041541</td>\n",
              "      <td>0.002241</td>\n",
              "      <td>0.000890</td>\n",
              "      <td>-0.001164</td>\n",
              "    </tr>\n",
              "    <tr>\n",
              "      <th>currentBalance</th>\n",
              "      <td>0.161991</td>\n",
              "      <td>0.161991</td>\n",
              "      <td>0.652700</td>\n",
              "      <td>0.128413</td>\n",
              "      <td>0.024615</td>\n",
              "      <td>0.069140</td>\n",
              "      <td>0.069197</td>\n",
              "      <td>0.123737</td>\n",
              "      <td>1.000000</td>\n",
              "      <td>-0.010181</td>\n",
              "      <td>-0.001426</td>\n",
              "      <td>0.007965</td>\n",
              "      <td>0.002940</td>\n",
              "    </tr>\n",
              "    <tr>\n",
              "      <th>cardPresent</th>\n",
              "      <td>0.005838</td>\n",
              "      <td>0.005838</td>\n",
              "      <td>-0.004113</td>\n",
              "      <td>0.002007</td>\n",
              "      <td>0.037671</td>\n",
              "      <td>-0.045181</td>\n",
              "      <td>-0.044989</td>\n",
              "      <td>0.041541</td>\n",
              "      <td>-0.010181</td>\n",
              "      <td>1.000000</td>\n",
              "      <td>0.040680</td>\n",
              "      <td>-0.043308</td>\n",
              "      <td>0.002996</td>\n",
              "    </tr>\n",
              "    <tr>\n",
              "      <th>expirationDateKeyInMatch</th>\n",
              "      <td>-0.001057</td>\n",
              "      <td>-0.001057</td>\n",
              "      <td>0.002380</td>\n",
              "      <td>0.004151</td>\n",
              "      <td>0.001785</td>\n",
              "      <td>-0.000609</td>\n",
              "      <td>-0.000389</td>\n",
              "      <td>0.002241</td>\n",
              "      <td>-0.001426</td>\n",
              "      <td>0.040680</td>\n",
              "      <td>1.000000</td>\n",
              "      <td>-0.001173</td>\n",
              "      <td>0.000034</td>\n",
              "    </tr>\n",
              "    <tr>\n",
              "      <th>isFraud</th>\n",
              "      <td>-0.003941</td>\n",
              "      <td>-0.003941</td>\n",
              "      <td>0.003330</td>\n",
              "      <td>-0.001423</td>\n",
              "      <td>0.075669</td>\n",
              "      <td>0.008657</td>\n",
              "      <td>0.008659</td>\n",
              "      <td>0.000890</td>\n",
              "      <td>0.007965</td>\n",
              "      <td>-0.043308</td>\n",
              "      <td>-0.001173</td>\n",
              "      <td>1.000000</td>\n",
              "      <td>-0.009731</td>\n",
              "    </tr>\n",
              "    <tr>\n",
              "      <th>matchingCVV</th>\n",
              "      <td>0.005147</td>\n",
              "      <td>0.005147</td>\n",
              "      <td>0.000958</td>\n",
              "      <td>-0.000880</td>\n",
              "      <td>0.001151</td>\n",
              "      <td>-0.002999</td>\n",
              "      <td>0.008270</td>\n",
              "      <td>-0.001164</td>\n",
              "      <td>0.002940</td>\n",
              "      <td>0.002996</td>\n",
              "      <td>0.000034</td>\n",
              "      <td>-0.009731</td>\n",
              "      <td>1.000000</td>\n",
              "    </tr>\n",
              "  </tbody>\n",
              "</table>\n",
              "</div>\n",
              "      <button class=\"colab-df-convert\" onclick=\"convertToInteractive('df-9ce5e324-def5-4ddb-847a-85c55d5c0140')\"\n",
              "              title=\"Convert this dataframe to an interactive table.\"\n",
              "              style=\"display:none;\">\n",
              "        \n",
              "  <svg xmlns=\"http://www.w3.org/2000/svg\" height=\"24px\"viewBox=\"0 0 24 24\"\n",
              "       width=\"24px\">\n",
              "    <path d=\"M0 0h24v24H0V0z\" fill=\"none\"/>\n",
              "    <path d=\"M18.56 5.44l.94 2.06.94-2.06 2.06-.94-2.06-.94-.94-2.06-.94 2.06-2.06.94zm-11 1L8.5 8.5l.94-2.06 2.06-.94-2.06-.94L8.5 2.5l-.94 2.06-2.06.94zm10 10l.94 2.06.94-2.06 2.06-.94-2.06-.94-.94-2.06-.94 2.06-2.06.94z\"/><path d=\"M17.41 7.96l-1.37-1.37c-.4-.4-.92-.59-1.43-.59-.52 0-1.04.2-1.43.59L10.3 9.45l-7.72 7.72c-.78.78-.78 2.05 0 2.83L4 21.41c.39.39.9.59 1.41.59.51 0 1.02-.2 1.41-.59l7.78-7.78 2.81-2.81c.8-.78.8-2.07 0-2.86zM5.41 20L4 18.59l7.72-7.72 1.47 1.35L5.41 20z\"/>\n",
              "  </svg>\n",
              "      </button>\n",
              "      \n",
              "  <style>\n",
              "    .colab-df-container {\n",
              "      display:flex;\n",
              "      flex-wrap:wrap;\n",
              "      gap: 12px;\n",
              "    }\n",
              "\n",
              "    .colab-df-convert {\n",
              "      background-color: #E8F0FE;\n",
              "      border: none;\n",
              "      border-radius: 50%;\n",
              "      cursor: pointer;\n",
              "      display: none;\n",
              "      fill: #1967D2;\n",
              "      height: 32px;\n",
              "      padding: 0 0 0 0;\n",
              "      width: 32px;\n",
              "    }\n",
              "\n",
              "    .colab-df-convert:hover {\n",
              "      background-color: #E2EBFA;\n",
              "      box-shadow: 0px 1px 2px rgba(60, 64, 67, 0.3), 0px 1px 3px 1px rgba(60, 64, 67, 0.15);\n",
              "      fill: #174EA6;\n",
              "    }\n",
              "\n",
              "    [theme=dark] .colab-df-convert {\n",
              "      background-color: #3B4455;\n",
              "      fill: #D2E3FC;\n",
              "    }\n",
              "\n",
              "    [theme=dark] .colab-df-convert:hover {\n",
              "      background-color: #434B5C;\n",
              "      box-shadow: 0px 1px 3px 1px rgba(0, 0, 0, 0.15);\n",
              "      filter: drop-shadow(0px 1px 2px rgba(0, 0, 0, 0.3));\n",
              "      fill: #FFFFFF;\n",
              "    }\n",
              "  </style>\n",
              "\n",
              "      <script>\n",
              "        const buttonEl =\n",
              "          document.querySelector('#df-9ce5e324-def5-4ddb-847a-85c55d5c0140 button.colab-df-convert');\n",
              "        buttonEl.style.display =\n",
              "          google.colab.kernel.accessAllowed ? 'block' : 'none';\n",
              "\n",
              "        async function convertToInteractive(key) {\n",
              "          const element = document.querySelector('#df-9ce5e324-def5-4ddb-847a-85c55d5c0140');\n",
              "          const dataTable =\n",
              "            await google.colab.kernel.invokeFunction('convertToInteractive',\n",
              "                                                     [key], {});\n",
              "          if (!dataTable) return;\n",
              "\n",
              "          const docLinkHtml = 'Like what you see? Visit the ' +\n",
              "            '<a target=\"_blank\" href=https://colab.research.google.com/notebooks/data_table.ipynb>data table notebook</a>'\n",
              "            + ' to learn more about interactive tables.';\n",
              "          element.innerHTML = '';\n",
              "          dataTable['output_type'] = 'display_data';\n",
              "          await google.colab.output.renderOutput(dataTable, element);\n",
              "          const docLink = document.createElement('div');\n",
              "          docLink.innerHTML = docLinkHtml;\n",
              "          element.appendChild(docLink);\n",
              "        }\n",
              "      </script>\n",
              "    </div>\n",
              "  </div>\n",
              "  "
            ]
          },
          "metadata": {},
          "execution_count": 25
        }
      ]
    },
    {
      "cell_type": "code",
      "source": [
        "# Drop unnecessary columns and only keep the relevant features\n",
        "df = cleaned_transactions.drop(['accountNumber', 'customerId', 'transactionDateTime', 'merchantName', 'currentExpDate', 'accountOpenDate', 'dateOfLastAddressChange', 'cardCVV', 'enteredCVV', 'cardLast4Digits'], axis=1)"
      ],
      "metadata": {
        "id": "-UnHPCaW0hbi"
      },
      "execution_count": null,
      "outputs": []
    },
    {
      "cell_type": "code",
      "source": [
        "df['isFraud'].value_counts()"
      ],
      "metadata": {
        "colab": {
          "base_uri": "https://localhost:8080/"
        },
        "id": "Wp6C95McwNW7",
        "outputId": "6ba4d13c-aed0-4a1d-854e-d4d867b886e7"
      },
      "execution_count": null,
      "outputs": [
        {
          "output_type": "execute_result",
          "data": {
            "text/plain": [
              "0    746444\n",
              "1     11951\n",
              "Name: isFraud, dtype: int64"
            ]
          },
          "metadata": {},
          "execution_count": 27
        }
      ]
    },
    {
      "cell_type": "markdown",
      "source": [
        "As we can see, the data is highly imbalanced and that makes sense as well. Number of fraudulent transaction need to be as minimum as possible in the real world.\n",
        "Now, we can't work with this data as it is, since it might create problems while modelling. Hence we use under sampling technique. So we take equal number of transactions of non fraudulent category as the fraudulent ones. Hence we can work with a balanced dataset to create a model. Later this model can be generalized to work with imabalanced data."
      ],
      "metadata": {
        "id": "zXBeAZtzwUfY"
      }
    },
    {
      "cell_type": "code",
      "source": [
        "y = df['isFraud']\n",
        "df.drop('isFraud', inplace=True, axis=1)\n",
        "\n",
        "rus = RandomUnderSampler()\n",
        "X, y = rus.fit_resample(df, y)\n",
        "\n",
        "print('Before Under Sampling:', df.shape)\n",
        "print('After Under Sampling:', X.shape)"
      ],
      "metadata": {
        "colab": {
          "base_uri": "https://localhost:8080/"
        },
        "id": "347ZbiPemtDd",
        "outputId": "64ebccab-aa02-43a5-a61a-c5079fdde1a4"
      },
      "execution_count": null,
      "outputs": [
        {
          "output_type": "stream",
          "name": "stdout",
          "text": [
            "Before Under Sampling: (758395, 13)\n",
            "After Under Sampling: (23902, 13)\n"
          ]
        }
      ]
    },
    {
      "cell_type": "code",
      "source": [
        "# Split the data under sampled data into \n",
        "X_train, X_test, y_train, y_test = train_test_split(X, y, test_size=0.2, random_state=42)"
      ],
      "metadata": {
        "id": "3Q7Xlo9H0V-F"
      },
      "execution_count": null,
      "outputs": []
    },
    {
      "cell_type": "markdown",
      "source": [
        "## 4.2 Feature Selection"
      ],
      "metadata": {
        "id": "inckEcX-msrM"
      }
    },
    {
      "cell_type": "code",
      "source": [
        "# Prepare list of features which need further preprocessing. We can do all the necessary preprocessing in the pipieline before traning a model.\n",
        "numeric_features = ['availableMoney', 'transactionAmount', 'currentBalance']\n",
        "nominal_features = ['acqCountry', 'merchantCountryCode', 'posEntryMode', 'posConditionCode', 'merchantCategoryCode', 'transactionType']\n",
        "ordinal_features = ['creditLimit']"
      ],
      "metadata": {
        "id": "lgjoxYb8ywJA"
      },
      "execution_count": null,
      "outputs": []
    },
    {
      "cell_type": "code",
      "source": [
        "# Feature Conversion Pipeline\n",
        "numeric_transformer = Pipeline(steps=[('scaler', StandardScaler())])\n",
        "nominal_transformer = Pipeline(steps=[('cat_imputer', SimpleImputer(strategy='most_frequent')), ('onehot', OneHotEncoder(handle_unknown='ignore'))])\n",
        "ordinal_transformer = Pipeline(steps=[('cat_imputer', SimpleImputer(strategy='most_frequent')), ('ordinal', OrdinalEncoder())])\n",
        "\n",
        "pipeline = ColumnTransformer([\n",
        "('num', numeric_transformer, numeric_features),\n",
        "('nom', nominal_transformer, nominal_features),\n",
        "('ord', ordinal_transformer, ordinal_features)])\n",
        "\n",
        "X_train = pipeline.fit_transform(X_train)\n",
        "X_test = pipeline.transform(X_test)"
      ],
      "metadata": {
        "id": "wmGz4SXt09nR"
      },
      "execution_count": null,
      "outputs": []
    },
    {
      "cell_type": "markdown",
      "source": [
        "## 4.3 Modeling\n"
      ],
      "metadata": {
        "id": "U08rHbRRmw1u"
      }
    },
    {
      "cell_type": "markdown",
      "source": [
        "I tried Logistic Regression because it is a great starting point. And in many cases it performs really well for binary classification problems."
      ],
      "metadata": {
        "id": "EWTOYryH3Med"
      }
    },
    {
      "cell_type": "code",
      "source": [
        "# Using grid search to find the best suitable parameters for Logistic Regression\n",
        "lr_params = {\n",
        "    'max_iter': [1000, 5000, 10000, 50000],\n",
        "    'C': [0.001, 0.005, 0.01, 0.05, 0.1, 0.5, 1, 10, 100]\n",
        "}\n",
        "\n",
        "lr_gs = GridSearchCV(estimator=LogisticRegression(), param_grid=lr_params, cv=5)\n",
        "lr_gs.fit(X_train, y_train)\n",
        "\n",
        "print(\"Logistic Regression:\")\n",
        "print(\"Best hyperparameters:\", lr_gs.best_params_)\n",
        "print(\"Mean test score:\", lr_gs.best_score_)"
      ],
      "metadata": {
        "colab": {
          "base_uri": "https://localhost:8080/"
        },
        "id": "M4gwPYxxOKnP",
        "outputId": "7cd6dd08-1b9e-4571-8bf0-6d0e9fd5245a"
      },
      "execution_count": null,
      "outputs": [
        {
          "output_type": "stream",
          "name": "stdout",
          "text": [
            "Logistic Regression:\n",
            "Best hyperparameters: {'C': 0.1, 'max_iter': 1000}\n",
            "Mean test score: 0.6792530833811906\n"
          ]
        }
      ]
    },
    {
      "cell_type": "markdown",
      "source": [
        "I'm trying Random Forest Classifier because it is known for higher accuracy yielding algorithm. Also, it is an ensamble technique so it generalizes well. It is also less prone to outliers and it is easily scalable. In out case we might want to extend our model to tons of data. So this seems like a suitable choice."
      ],
      "metadata": {
        "id": "E33qIi9P3Y6J"
      }
    },
    {
      "cell_type": "code",
      "source": [
        "# Using grid search to find the best suitable parameters for Random Forest Classifier\n",
        "rfc_params = {\n",
        "    'n_estimators': [50, 100, 200],\n",
        "    'max_depth': [1, 3, 5],\n",
        "    'bootstrap': [True, False],\n",
        "}\n",
        "\n",
        "rfc_gs = GridSearchCV(estimator=RandomForestClassifier(), param_grid=rfc_params, cv=5)\n",
        "rfc_gs.fit(X_train, y_train)\n",
        "\n",
        "print(\"Random Forest Classifier:\")\n",
        "print(\"Best hyperparameters:\", rfc_gs.best_params_)\n",
        "print(\"Mean test score:\", rfc_gs.best_score_)"
      ],
      "metadata": {
        "colab": {
          "base_uri": "https://localhost:8080/"
        },
        "id": "Of4N9yGAP5_O",
        "outputId": "c881ccb3-ce46-43ca-9e7a-0b4526fde511"
      },
      "execution_count": null,
      "outputs": [
        {
          "output_type": "stream",
          "name": "stdout",
          "text": [
            "Random Forest Classifier:\n",
            "Best hyperparameters: {'bootstrap': True, 'max_depth': 5, 'n_estimators': 100}\n",
            "Mean test score: 0.6788872207181338\n"
          ]
        }
      ]
    },
    {
      "cell_type": "markdown",
      "source": [
        "I'm gonna try XGBoost Classfier because it is a well known algorithm for handling imbalanced data and also in handling missing data. Even though we have taken care of these things in this case, we might want to extend this model to unseen data that might have these problems. So it is a suitable choice. It is designed to be fast and easily scalable and is less prone to overfitting. "
      ],
      "metadata": {
        "id": "MABc3raA37d0"
      }
    },
    {
      "cell_type": "code",
      "source": [
        "# Using grid search to find the best suitable parameters for XGBoost Classifier\n",
        "xgb_params = {\n",
        "    'max_depth': [3, 5, 7], \n",
        "    'learning_rate': [0.01, 0.1, 0.5], \n",
        "    'n_estimators': [100, 150, 200]\n",
        "}\n",
        "\n",
        "xgb_gs = GridSearchCV(estimator=XGBClassifier(), param_grid=xgb_params, cv=5)\n",
        "xgb_gs.fit(X_train, y_train)\n",
        "\n",
        "print(\"XGBoost Classifier:\")\n",
        "print(\"Best hyperparameters:\", xgb_gs.best_params_)\n",
        "print(\"Mean test score:\", xgb_gs.best_score_)"
      ],
      "metadata": {
        "colab": {
          "base_uri": "https://localhost:8080/"
        },
        "id": "7Y28KBdKQrJH",
        "outputId": "5fedbd78-08ee-423b-924e-91c1e5f154d1"
      },
      "execution_count": null,
      "outputs": [
        {
          "output_type": "stream",
          "name": "stdout",
          "text": [
            "XGBoost Classifier:\n",
            "Best hyperparameters: {'learning_rate': 0.1, 'max_depth': 5, 'n_estimators': 150}\n",
            "Mean test score: 0.7052983974621927\n"
          ]
        }
      ]
    },
    {
      "cell_type": "markdown",
      "source": [
        "## 4.4 Metrics"
      ],
      "metadata": {
        "id": "BcXP3WwmmijE"
      }
    },
    {
      "cell_type": "markdown",
      "source": [
        "It is important to try our different models and compare the results because every model fits differently on different datasets. And not always we can predict the quality of the incoming data. So here I use the best models tried above and compare their performances on unseen data."
      ],
      "metadata": {
        "id": "__TNhcaT4ydK"
      }
    },
    {
      "cell_type": "code",
      "source": [
        "lr = LogisticRegression(**lr_gs.best_params_)\n",
        "lr.fit(X_train, y_train)\n",
        "y_pred_lr = lr.predict(X_test)\n",
        "print(confusion_matrix(y_test, y_pred_lr))\n",
        "print(classification_report(y_test, y_pred_lr))"
      ],
      "metadata": {
        "colab": {
          "base_uri": "https://localhost:8080/"
        },
        "id": "hiza_RZj1aoz",
        "outputId": "b1d9bfdd-cafa-4b33-de6c-4a9c751aa55c"
      },
      "execution_count": null,
      "outputs": [
        {
          "output_type": "stream",
          "name": "stdout",
          "text": [
            "[[1596  791]\n",
            " [ 668 1726]]\n",
            "              precision    recall  f1-score   support\n",
            "\n",
            "           0       0.70      0.67      0.69      2387\n",
            "           1       0.69      0.72      0.70      2394\n",
            "\n",
            "    accuracy                           0.69      4781\n",
            "   macro avg       0.70      0.69      0.69      4781\n",
            "weighted avg       0.70      0.69      0.69      4781\n",
            "\n"
          ]
        }
      ]
    },
    {
      "cell_type": "code",
      "source": [
        "rfc = RandomForestClassifier(**rfc_gs.best_params_)\n",
        "rfc.fit(X_train, y_train)\n",
        "y_pred_rfc = rfc.predict(X_test)\n",
        "print(confusion_matrix(y_test, y_pred_rfc))\n",
        "print(classification_report(y_test, y_pred_rfc))"
      ],
      "metadata": {
        "colab": {
          "base_uri": "https://localhost:8080/"
        },
        "id": "vgK1YlODUal1",
        "outputId": "1c166d58-221c-4cea-a9cf-793f2815263b"
      },
      "execution_count": null,
      "outputs": [
        {
          "output_type": "stream",
          "name": "stdout",
          "text": [
            "[[1621  766]\n",
            " [ 702 1692]]\n",
            "              precision    recall  f1-score   support\n",
            "\n",
            "           0       0.70      0.68      0.69      2387\n",
            "           1       0.69      0.71      0.70      2394\n",
            "\n",
            "    accuracy                           0.69      4781\n",
            "   macro avg       0.69      0.69      0.69      4781\n",
            "weighted avg       0.69      0.69      0.69      4781\n",
            "\n"
          ]
        }
      ]
    },
    {
      "cell_type": "code",
      "source": [
        "xgb = XGBClassifier(**xgb_gs.best_params_)\n",
        "xgb.fit(X_train, y_train) \n",
        "y_pred_xgb = xgb.predict(X_test)\n",
        "print(confusion_matrix(y_test, y_pred_xgb))\n",
        "print(classification_report(y_test, y_pred_xgb))"
      ],
      "metadata": {
        "colab": {
          "base_uri": "https://localhost:8080/"
        },
        "id": "IJ4YK09zUjgd",
        "outputId": "deb422a4-e11e-4756-9a85-3a351fd554b7"
      },
      "execution_count": null,
      "outputs": [
        {
          "output_type": "stream",
          "name": "stdout",
          "text": [
            "[[1714  673]\n",
            " [ 682 1712]]\n",
            "              precision    recall  f1-score   support\n",
            "\n",
            "           0       0.72      0.72      0.72      2387\n",
            "           1       0.72      0.72      0.72      2394\n",
            "\n",
            "    accuracy                           0.72      4781\n",
            "   macro avg       0.72      0.72      0.72      4781\n",
            "weighted avg       0.72      0.72      0.72      4781\n",
            "\n"
          ]
        }
      ]
    },
    {
      "cell_type": "markdown",
      "source": [
        "# 5. Conclusion\n",
        "\n",
        "a) XGBoost Classifier performs the best of all the models tried.\n",
        "\n",
        "b) As the cross validation and test results are pretty similar, we can conclude that the model has not underfit or overfit.\n",
        "\n",
        "c) With more time, I would be interested in checking accuracy of the models tried with more amount of data as under sampling removed a large chunk of the data.\n",
        "\n",
        "d) The confusion matrix suggests that the model is able to identify many fraudulent transactions and if time permits these models can be further optimized for better results."
      ],
      "metadata": {
        "id": "petJBuhiGzEA"
      }
    }
  ]
}